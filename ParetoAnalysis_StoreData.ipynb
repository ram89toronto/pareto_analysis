{
 "cells": [
  {
   "cell_type": "markdown",
   "metadata": {},
   "source": [
    "# Data Analysis \n",
    "##  Pareto Analysis \n",
    "- Data Used - Retail Store \n",
    "- Business Problems Address\n",
    "    - Identify Products generating 80 % plus revenue\n",
    "    \n"
   ]
  },
  {
   "cell_type": "code",
   "execution_count": 1,
   "metadata": {
    "collapsed": true
   },
   "outputs": [],
   "source": [
    "# Importing Packages\n",
    "\n",
    "import pandas as pd\n",
    "from matplotlib import pyplot as plt\n",
    "import numpy as np\n",
    "%matplotlib inline\n"
   ]
  },
  {
   "cell_type": "code",
   "execution_count": 2,
   "metadata": {
    "collapsed": true
   },
   "outputs": [],
   "source": [
    "# Reading data from CSV\n",
    "data = pd.read_csv(\"pareto_py.csv\")"
   ]
  },
  {
   "cell_type": "code",
   "execution_count": 3,
   "metadata": {},
   "outputs": [
    {
     "name": "stdout",
     "output_type": "stream",
     "text": [
      "<class 'pandas.core.frame.DataFrame'>\n",
      "RangeIndex: 1326 entries, 0 to 1325\n",
      "Data columns (total 4 columns):\n",
      "Product    1326 non-null object\n",
      "Month      1326 non-null object\n",
      "Store      1326 non-null object\n",
      "Price      1326 non-null object\n",
      "dtypes: object(4)\n",
      "memory usage: 41.5+ KB\n",
      "None\n",
      "    Product     Month     Store   Price\n",
      "0   Tape 10     April  downtown   $2.50\n",
      "1  Safety 8    August    uptown  $10.00\n",
      "2  Safety 2  February    uptown  $10.00\n",
      "3  Safety 8  November    uptown  $10.00\n",
      "4   Tape 10   October    uptown   $2.50\n",
      "       Product     Month     Store   Price\n",
      "1321   Tape 10  November    uptown   $2.50\n",
      "1322  Safety 1   October  downtown  $12.00\n",
      "1323  Safety 8   October  downtown  $10.00\n",
      "1324    Tape 6   October    uptown   $2.50\n",
      "1325  Safety 8  December  downtown  $10.00\n",
      "         Product     Month     Store   Price\n",
      "count       1326      1326      1326    1326\n",
      "unique        30        12         2       6\n",
      "top     Safety 8  November  downtown  $10.00\n",
      "freq         505       127       680     684\n"
     ]
    }
   ],
   "source": [
    "# Observing imported Data\n",
    "print(data.info())\n",
    "print(data.head())\n",
    "print(data.tail())\n",
    "print(data.descridbe())\n"
   ]
  },
  {
   "cell_type": "code",
   "execution_count": 75,
   "metadata": {},
   "outputs": [
    {
     "name": "stdout",
     "output_type": "stream",
     "text": [
      "    Product     Month     Store  Price_New\n",
      "0   Tape 10     April  downtown        2.5\n",
      "1  Safety 8    August    uptown       10.0\n",
      "2  Safety 2  February    uptown       10.0\n",
      "3  Safety 8  November    uptown       10.0\n",
      "4   Tape 10   October    uptown        2.5\n"
     ]
    }
   ],
   "source": [
    "# Preparing data for computation\n",
    "\n",
    "#test\n",
    "#print( data.Price.apply(lambda x : float(x.strip(\"$\"))).reset_index().sum())\n",
    "data_new = data\n",
    "data_new[\"Price_New\"] = data.apply(lambda row: float(row[\"Price\"].strip(\"$\")), axis=1).reset_index(drop=True)\n",
    "data_new = data_new.drop(\"Price\", 1)\n",
    "print(data_new.head())"
   ]
  },
  {
   "cell_type": "code",
   "execution_count": 74,
   "metadata": {},
   "outputs": [
    {
     "name": "stdout",
     "output_type": "stream",
     "text": [
      "      Product      Month     Store  Price_New\n",
      "725  Safety 1    October    uptown       12.0\n",
      "716  Safety 1       June  downtown       12.0\n",
      "974  Safety 1  September    uptown       12.0\n",
      "967  Safety 1      March  downtown       12.0\n",
      "581  Safety 1      March    uptown       12.0\n"
     ]
    }
   ],
   "source": [
    "# Sorting Price with descending\n",
    "data_new = data_new.sort_values(\"Price_New\",ascending = False)\n",
    "print(data_new.head())"
   ]
  },
  {
   "cell_type": "code",
   "execution_count": 80,
   "metadata": {},
   "outputs": [
    {
     "name": "stdout",
     "output_type": "stream",
     "text": [
      "        Product  Price_New\n",
      "6    Adhesive 4      238.0\n",
      "7      Safety 6      220.0\n",
      "8    Adhesive 5      168.0\n",
      "9      Safety 3      140.0\n",
      "10       Tape 1       93.0\n",
      "11   Adhesive 9       91.0\n",
      "12    Safety 10       90.0\n",
      "13     Safety 4       90.0\n",
      "14  Adhesive 10       70.0\n",
      "15   Adhesive 7       70.0\n",
      "16       Tape 6       67.5\n",
      "17   Adhesive 2       63.0\n",
      "18     Safety 5       50.0\n",
      "19   Adhesive 3       49.0\n",
      "20       Tape 5       47.5\n",
      "21   Adhesive 8       42.0\n",
      "22   Adhesive 6       42.0\n",
      "23     Safety 9       40.0\n",
      "24       Tape 4       35.0\n",
      "25       Tape 9       30.0\n",
      "26       Tape 2       25.0\n",
      "27   Adhesive 1       24.0\n",
      "28       Tape 8       20.0\n",
      "29       Tape 3       15.0\n",
      "    Product  Price_New\n",
      "0  Safety 8     5050.0\n",
      "1  Safety 2      740.0\n",
      "2  Safety 1      732.0\n",
      "3   Tape 10      490.0\n",
      "4  Safety 7      420.0\n",
      "5    Tape 7      340.0\n"
     ]
    },
    {
     "data": {
      "text/plain": [
       "<Container object of 6 artists>"
      ]
     },
     "execution_count": 80,
     "metadata": {},
     "output_type": "execute_result"
    },
    {
     "data": {
      "image/png": "[encoded data removed]",
      "text/plain": [
       "<matplotlib.figure.Figure at 0xb998438>"
      ]
     },
     "metadata": {},
     "output_type": "display_data"
    }
   ],
   "source": [
    "# sorting with products producing top 80 % pricce\n",
    "\n",
    "x= data_new.groupby([\"Product\"]).Price_New.sum().sort_values(ascending=False).reset_index()\n",
    "x_80= np.percentile(x[\"Price_New\"],80)\n",
    "x_80_revenue_products= x[x.Price_New > x_80]\n",
    "x_20_revenue_products = x[x.Price_New < x_80]\n",
    "ax = plt.subplot()\n",
    "\n",
    "print(x_20_revenue_products)\n",
    "print(x_80_revenue_products)\n",
    "plt.subplots_adjust(bottom = 0.4, wspace= 0.4)\n",
    "plt.title(\"Products generating 80 % revenue\")\n",
    "plt.bar(x_80_revenue_products.Product, x_80_revenue_products.Price_New)\n"
   ]
  },
  {
   "cell_type": "code",
   "execution_count": null,
   "metadata": {
    "collapsed": true
   },
   "outputs": [],
   "source": []
  }
 ],
 "metadata": {
  "kernelspec": {
   "display_name": "Python 3",
   "language": "python",
   "name": "python3"
  },
  "language_info": {
   "codemirror_mode": {
    "name": "ipython",
    "version": 3
   },
   "file_extension": ".py",
   "mimetype": "text/x-python",
   "name": "python",
   "nbconvert_exporter": "python",
   "pygments_lexer": "ipython3",
   "version": "3.6.3"
  }
 },
 "nbformat": 4,
 "nbformat_minor": 2
}
